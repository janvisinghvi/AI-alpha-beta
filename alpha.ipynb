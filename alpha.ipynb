{
  "nbformat": 4,
  "nbformat_minor": 0,
  "metadata": {
    "colab": {
      "name": "alpha.ipynb",
      "version": "0.3.2",
      "provenance": [],
      "collapsed_sections": [],
      "include_colab_link": true
    },
    "kernelspec": {
      "name": "python3",
      "display_name": "Python 3"
    }
  },
  "cells": [
    {
      "cell_type": "markdown",
      "metadata": {
        "id": "view-in-github",
        "colab_type": "text"
      },
      "source": [
        "<a href=\"https://colab.research.google.com/github/janvisinghvi/AI-alpha-beta/blob/master/alpha.ipynb\" target=\"_parent\"><img src=\"https://colab.research.google.com/assets/colab-badge.svg\" alt=\"Open In Colab\"/></a>"
      ]
    },
    {
      "cell_type": "code",
      "metadata": {
        "id": "jPiCcAhp9dBz",
        "colab_type": "code",
        "colab": {
          "base_uri": "https://localhost:8080/",
          "height": 68
        },
        "outputId": "5b2c5262-c22b-4f2a-f291-479304672806"
      },
      "source": [
        "tree = [[[5, 1, 2], [8, -8, -9]], [[9, 4, 5], [-3, 4, 3]]]\n",
        "root = 0\n",
        "pruned = 0\n",
        "\n",
        " \n",
        "def children(branch, depth, alpha, beta):\n",
        "    global tree\n",
        "    global root\n",
        "    global pruned\n",
        "    i = 0\n",
        "    for child in branch:\n",
        "        if type(child) is list:\n",
        "            (nalpha, nbeta) = children(child, depth + 1, alpha, beta)\n",
        "            if depth % 2 == 1:\n",
        "                beta = nalpha if nalpha < beta else beta\n",
        "            else:\n",
        "                alpha = nbeta if nbeta > alpha else alpha\n",
        "            branch[i] = alpha if depth % 2 == 0 else beta\n",
        "            i += 1\n",
        "        else:\n",
        "            if depth % 2 == 0 and alpha < child:\n",
        "                alpha = child\n",
        "            if depth % 2 == 1 and beta > child:\n",
        "                beta = child\n",
        "            if alpha >= beta:\n",
        "                pruned += 1\n",
        "                break\n",
        "    if depth == root:\n",
        "        tree = alpha if root == 0 else beta\n",
        "    return (alpha, beta) \n",
        " \n",
        "def alphabeta(in_tree=tree, start=root, upper=-15, lower=15):\n",
        "    global tree\n",
        "    global pruned\n",
        "    global root \n",
        " \n",
        "    (alpha, beta) = children(tree, start, upper, lower)\n",
        "    if __name__ == \"__main__\":\n",
        "        print (\"(alpha, beta): \", alpha, beta)\n",
        "        print (\"Result: \", tree)\n",
        "        print (\"Times pruned: \", pruned) \n",
        " \n",
        "    return (alpha, beta, tree, pruned) \n",
        " \n",
        "if __name__ == \"__main__\":\n",
        "    alphabeta(None) \n"
      ],
      "execution_count": 1,
      "outputs": [
        {
          "output_type": "stream",
          "text": [
            "(alpha, beta):  5 15\n",
            "Result:  5\n",
            "Times pruned:  1\n"
          ],
          "name": "stdout"
        }
      ]
    }
  ]
}